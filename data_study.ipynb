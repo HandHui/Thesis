{
 "cells": [
  {
   "cell_type": "markdown",
   "metadata": {},
   "source": [
    "***train.pk文件***"
   ]
  },
  {
   "cell_type": "code",
   "execution_count": 2,
   "metadata": {},
   "outputs": [],
   "source": [
    "import pickle"
   ]
  },
  {
   "cell_type": "code",
   "execution_count": 3,
   "metadata": {},
   "outputs": [],
   "source": [
    "with open('../data/my_train.pk', 'rb') as f1:\n",
    "    train_data = pickle.load(f1)\n",
    "f1.close()"
   ]
  },
  {
   "cell_type": "code",
   "execution_count": 4,
   "metadata": {},
   "outputs": [
    {
     "data": {
      "text/plain": [
       "2098"
      ]
     },
     "execution_count": 4,
     "metadata": {},
     "output_type": "execute_result"
    }
   ],
   "source": [
    "len(train_data)"
   ]
  },
  {
   "cell_type": "code",
   "execution_count": 5,
   "metadata": {},
   "outputs": [
    {
     "data": {
      "text/plain": [
       "([46,\n",
       "  15,\n",
       "  36,\n",
       "  5,\n",
       "  95,\n",
       "  1715,\n",
       "  29,\n",
       "  44,\n",
       "  175,\n",
       "  340,\n",
       "  5,\n",
       "  3,\n",
       "  4360,\n",
       "  149,\n",
       "  58,\n",
       "  108,\n",
       "  24,\n",
       "  389,\n",
       "  24,\n",
       "  189,\n",
       "  149,\n",
       "  24,\n",
       "  100,\n",
       "  24,\n",
       "  1318,\n",
       "  149,\n",
       "  17,\n",
       "  4360,\n",
       "  149,\n",
       "  352,\n",
       "  44,\n",
       "  124,\n",
       "  394,\n",
       "  5,\n",
       "  76,\n",
       "  1930,\n",
       "  540,\n",
       "  29,\n",
       "  372,\n",
       "  26,\n",
       "  7,\n",
       "  126,\n",
       "  10,\n",
       "  68,\n",
       "  293],\n",
       " [[1540, 551, 2192, 2192, 2192, 2192, 2192, 2192, 2192, 2192],\n",
       "  [818, 463, 2192, 2192, 2192, 2192, 2192, 2192, 2192, 2192],\n",
       "  [194, 1481, 2192, 2192, 2192, 2192, 2192, 2192, 2192, 2192],\n",
       "  [777, 2192, 2192, 2192, 2192, 2192, 2192, 2192, 2192, 2192],\n",
       "  [1836, 277, 216, 1305, 1429, 2192, 2192, 2192, 2192, 2192],\n",
       "  [216, 216, 472, 1061, 2192, 2192, 2192, 2192, 2192, 2192],\n",
       "  [1946, 2192, 2192, 2192, 2192, 2192, 2192, 2192, 2192, 2192],\n",
       "  [1324, 2192, 2192, 2192, 2192, 2192, 2192, 2192, 2192, 2192],\n",
       "  [1791, 2192, 2192, 2192, 2192, 2192, 2192, 2192, 2192, 2192],\n",
       "  [376, 1968, 2192, 2192, 2192, 2192, 2192, 2192, 2192, 2192],\n",
       "  [777, 2192, 2192, 2192, 2192, 2192, 2192, 2192, 2192, 2192],\n",
       "  [1819, 1408, 1058, 2192, 2192, 2192, 2192, 2192, 2192, 2192],\n",
       "  [1007, 2192, 2192, 2192, 2192, 2192, 2192, 2192, 2192, 2192],\n",
       "  [900, 900, 2192, 2192, 2192, 2192, 2192, 2192, 2192, 2192],\n",
       "  [1109, 427, 2192, 2192, 2192, 2192, 2192, 2192, 2192, 2192],\n",
       "  [1681, 900, 2192, 2192, 2192, 2192, 2192, 2192, 2192, 2192],\n",
       "  [716, 2192, 2192, 2192, 2192, 2192, 2192, 2192, 2192, 2192],\n",
       "  [1165, 900, 2192, 2192, 2192, 2192, 2192, 2192, 2192, 2192],\n",
       "  [716, 2192, 2192, 2192, 2192, 2192, 2192, 2192, 2192, 2192],\n",
       "  [772, 2192, 2192, 2192, 2192, 2192, 2192, 2192, 2192, 2192],\n",
       "  [900, 900, 2192, 2192, 2192, 2192, 2192, 2192, 2192, 2192],\n",
       "  [716, 2192, 2192, 2192, 2192, 2192, 2192, 2192, 2192, 2192],\n",
       "  [1995, 900, 2192, 2192, 2192, 2192, 2192, 2192, 2192, 2192],\n",
       "  [716, 2192, 2192, 2192, 2192, 2192, 2192, 2192, 2192, 2192],\n",
       "  [393, 2192, 2192, 2192, 2192, 2192, 2192, 2192, 2192, 2192],\n",
       "  [900, 900, 2192, 2192, 2192, 2192, 2192, 2192, 2192, 2192],\n",
       "  [2091, 2192, 2192, 2192, 2192, 2192, 2192, 2192, 2192, 2192],\n",
       "  [1007, 2192, 2192, 2192, 2192, 2192, 2192, 2192, 2192, 2192],\n",
       "  [900, 900, 2192, 2192, 2192, 2192, 2192, 2192, 2192, 2192],\n",
       "  [607, 2192, 2192, 2192, 2192, 2192, 2192, 2192, 2192, 2192],\n",
       "  [1324, 2192, 2192, 2192, 2192, 2192, 2192, 2192, 2192, 2192],\n",
       "  [1502, 2192, 2192, 2192, 2192, 2192, 2192, 2192, 2192, 2192],\n",
       "  [1771, 774, 2192, 2192, 2192, 2192, 2192, 2192, 2192, 2192],\n",
       "  [777, 2192, 2192, 2192, 2192, 2192, 2192, 2192, 2192, 2192],\n",
       "  [739, 2192, 2192, 2192, 2192, 2192, 2192, 2192, 2192, 2192],\n",
       "  [473, 2192, 2192, 2192, 2192, 2192, 2192, 2192, 2192, 2192],\n",
       "  [502, 2192, 2192, 2192, 2192, 2192, 2192, 2192, 2192, 2192],\n",
       "  [1946, 2192, 2192, 2192, 2192, 2192, 2192, 2192, 2192, 2192],\n",
       "  [644, 339, 2192, 2192, 2192, 2192, 2192, 2192, 2192, 2192],\n",
       "  [502, 1355, 2192, 2192, 2192, 2192, 2192, 2192, 2192, 2192],\n",
       "  [1334, 144, 1483, 2076, 927, 2192, 2192, 2192, 2192, 2192],\n",
       "  [698, 2192, 2192, 2192, 2192, 2192, 2192, 2192, 2192, 2192],\n",
       "  [2034, 1281, 2192, 2192, 2192, 2192, 2192, 2192, 2192, 2192],\n",
       "  [2006, 2192, 2192, 2192, 2192, 2192, 2192, 2192, 2192, 2192],\n",
       "  [553, 2192, 2192, 2192, 2192, 2192, 2192, 2192, 2192, 2192]],\n",
       " [0,\n",
       "  0,\n",
       "  0,\n",
       "  0,\n",
       "  0,\n",
       "  0,\n",
       "  0,\n",
       "  0,\n",
       "  0,\n",
       "  0,\n",
       "  0,\n",
       "  0,\n",
       "  7,\n",
       "  0,\n",
       "  0,\n",
       "  0,\n",
       "  0,\n",
       "  0,\n",
       "  0,\n",
       "  0,\n",
       "  0,\n",
       "  0,\n",
       "  0,\n",
       "  0,\n",
       "  0,\n",
       "  0,\n",
       "  0,\n",
       "  8,\n",
       "  0,\n",
       "  0,\n",
       "  0,\n",
       "  0,\n",
       "  0,\n",
       "  0,\n",
       "  0,\n",
       "  0,\n",
       "  0,\n",
       "  0,\n",
       "  0,\n",
       "  0,\n",
       "  0,\n",
       "  0,\n",
       "  0,\n",
       "  0,\n",
       "  0])"
      ]
     },
     "execution_count": 5,
     "metadata": {},
     "output_type": "execute_result"
    }
   ],
   "source": [
    "train_data[0]"
   ]
  },
  {
   "cell_type": "code",
   "execution_count": 8,
   "metadata": {},
   "outputs": [
    {
     "data": {
      "text/plain": [
       "3"
      ]
     },
     "execution_count": 8,
     "metadata": {},
     "output_type": "execute_result"
    }
   ],
   "source": [
    "len(train_data[0])"
   ]
  },
  {
   "cell_type": "markdown",
   "metadata": {},
   "source": [
    "可以暂时确定出，train.pk文件中所包含的数字是将文本序列化以后的结果<br>\n",
    "但是，是如何处理的呢"
   ]
  },
  {
   "cell_type": "markdown",
   "metadata": {},
   "source": [
    "***train.json文件***"
   ]
  },
  {
   "cell_type": "code",
   "execution_count": 6,
   "metadata": {},
   "outputs": [],
   "source": [
    "import json"
   ]
  },
  {
   "cell_type": "code",
   "execution_count": 7,
   "metadata": {},
   "outputs": [],
   "source": [
    "with open('../data/mytrain.json','r',encoding='gbk') as f2:\n",
    "    lines = f2.readlines()\n",
    "#     raw_tra = json.load(f2)\n",
    "f2.close()"
   ]
  },
  {
   "cell_type": "code",
   "execution_count": 8,
   "metadata": {},
   "outputs": [
    {
     "name": "stdout",
     "output_type": "stream",
     "text": [
      "{'relationMentions': [{'em1Text': '简某某', 'e1start': 25, 'e21start': 47, 'label': 'provide_shelter_for', 'em2Text': '简某某'}], 'articleId': 20, 'sentId': 91, 'entityMentions': [{'start': 7, 'text': '2015年11月份的一天晚上', 'end': 21, 'label': 'NT'}, {'start': 25, 'text': '简某某', 'end': 28, 'label': 'Nh'}, {'start': 30, 'text': '陈某', 'end': 32, 'label': 'Nh'}, {'start': 33, 'text': '吴某', 'end': 35, 'label': 'Nh'}, {'start': 36, 'text': '杨某某', 'end': 39, 'label': 'Nh'}, {'start': 40, 'text': '张某', 'end': 42, 'label': 'Nh'}, {'start': 43, 'text': '伍某某', 'end': 46, 'label': 'Nh'}, {'start': 47, 'text': '简某某', 'end': 50, 'label': 'Nh'}, {'start': 64, 'text': '甲基苯丙胺', 'end': 69, 'label': 'NDR'}, {'start': 70, 'text': '冰毒', 'end': 72, 'label': 'NDR'}], 'sentText': '公诉机关指控，2015年11月份的一天晚上，被告人简某某容留陈某、吴某、杨某某、张某、伍某某在简某某家一楼卧室，以烫吸的方式吸食甲基苯丙胺（冰毒）。'}\n"
     ]
    }
   ],
   "source": [
    "with open(r'..\\data\\mytrain.json', 'rt', encoding='utf-8') as fin:##对训练集进行预处理\n",
    "    for line in fin:\n",
    "#         train+=1\n",
    "        sentence = json.loads(line)#将json数据转换成python对象  这里是转换为了字典\n",
    "        print(sentence)\n",
    "        break\n"
   ]
  },
  {
   "cell_type": "code",
   "execution_count": 9,
   "metadata": {},
   "outputs": [],
   "source": [
    "sentence = json.loads(lines[10])"
   ]
  },
  {
   "cell_type": "code",
   "execution_count": 10,
   "metadata": {},
   "outputs": [
    {
     "data": {
      "text/plain": [
       "{'relationMentions': [{'em1Text': '谢某某',\n",
       "   'e1start': 59,\n",
       "   'e21start': 82,\n",
       "   'label': 'sell_drugs_to',\n",
       "   'em2Text': '段某'}],\n",
       " 'articleId': 19,\n",
       " 'sentId': 116,\n",
       " 'entityMentions': [{'start': 14,\n",
       "   'text': '2013年11月10日晚',\n",
       "   'end': 26,\n",
       "   'label': 'NT'},\n",
       "  {'start': 30, 'text': '黄某', 'end': 32, 'label': 'Nh'},\n",
       "  {'start': 33, 'text': '龙岗区的宾馆', 'end': 39, 'label': 'Ns'},\n",
       "  {'start': 44, 'text': '11月11日4时', 'end': 52, 'label': 'NT'},\n",
       "  {'start': 59, 'text': '谢某某', 'end': 62, 'label': 'Nh'},\n",
       "  {'start': 66, 'text': '冰毒', 'end': 68, 'label': 'NDR'},\n",
       "  {'start': 76, 'text': '林某', 'end': 78, 'label': 'Nh'},\n",
       "  {'start': 79, 'text': '蒋某', 'end': 81, 'label': 'Nh'},\n",
       "  {'start': 82, 'text': '段某', 'end': 84, 'label': 'Nh'},\n",
       "  {'start': 90, 'text': '黄某', 'end': 92, 'label': 'Nh'},\n",
       "  {'start': 101, 'text': '冰毒', 'end': 103, 'label': 'NDR'},\n",
       "  {'start': 104, 'text': '11日13时30分', 'end': 113, 'label': 'NT'},\n",
       "  {'start': 127, 'text': '黄某', 'end': 129, 'label': 'Nh'},\n",
       "  {'start': 136, 'text': '林某', 'end': 138, 'label': 'Nh'},\n",
       "  {'start': 139, 'text': '蒋某', 'end': 141, 'label': 'Nh'},\n",
       "  {'start': 142, 'text': '段某', 'end': 144, 'label': 'Nh'},\n",
       "  {'start': 172, 'text': '黄某', 'end': 174, 'label': 'Nh'},\n",
       "  {'start': 175, 'text': '林某', 'end': 177, 'label': 'Nh'},\n",
       "  {'start': 178, 'text': '蒋某', 'end': 180, 'label': 'Nh'},\n",
       "  {'start': 181, 'text': '段某', 'end': 183, 'label': 'Nh'},\n",
       "  {'start': 186, 'text': '冰毒', 'end': 188, 'label': 'NDR'}],\n",
       " 'sentText': '深圳市龙岗区人民检察院指控：2013年11月10日晚，被告人黄某在龙岗区的宾馆内开了房。11月11日4时许，犯罪嫌疑人谢某某提供毒品冰毒，并打电话叫来了林某、蒋某、段某，伙同被告人黄某一起五人在房内吸食冰毒。11日13时30分许，民警在宾馆房内抓获被告人黄某及三名吸毒人员林某、蒋某和段某，并在房内查获吸毒工具矿泉水瓶一个、吸管一条等。经检测，黄某、林某、蒋某及段某尿液中冰毒含量均呈阳性。'}"
      ]
     },
     "execution_count": 10,
     "metadata": {},
     "output_type": "execute_result"
    }
   ],
   "source": [
    "sentence"
   ]
  },
  {
   "cell_type": "code",
   "execution_count": 12,
   "metadata": {},
   "outputs": [
    {
     "data": {
      "text/plain": [
       "'谢某某'"
      ]
     },
     "execution_count": 12,
     "metadata": {},
     "output_type": "execute_result"
    }
   ],
   "source": [
    "sentence['sentText'][59:59+3]"
   ]
  },
  {
   "cell_type": "markdown",
   "metadata": {},
   "source": [
    "### test.json文件 ###"
   ]
  },
  {
   "cell_type": "code",
   "execution_count": 13,
   "metadata": {},
   "outputs": [],
   "source": [
    "with open('../data/mytest.json','r',encoding='gbk') as f2:\n",
    "    lines = f2.readlines()\n",
    "#     raw_tra = json.load(f2)\n",
    "f2.close()"
   ]
  },
  {
   "cell_type": "code",
   "execution_count": null,
   "metadata": {},
   "outputs": [],
   "source": [
    "# with open(r'..\\data\\mytrain.json', 'rt', encoding='utf-8') as fin:##对训练集进行预处理\n",
    "#     for line in fin:\n",
    "# #         train+=1\n",
    "#         sentence = json.loads(line)#将json数据转换成python对象  这里是转换为了字典\n",
    "#         print(sentence)\n",
    "#         break\n"
   ]
  },
  {
   "cell_type": "code",
   "execution_count": 16,
   "metadata": {},
   "outputs": [
    {
     "data": {
      "text/plain": [
       "550"
      ]
     },
     "execution_count": 16,
     "metadata": {},
     "output_type": "execute_result"
    }
   ],
   "source": [
    "len(lines)"
   ]
  },
  {
   "cell_type": "code",
   "execution_count": 14,
   "metadata": {},
   "outputs": [],
   "source": [
    "sentence = json.loads(lines[10])"
   ]
  },
  {
   "cell_type": "code",
   "execution_count": 17,
   "metadata": {},
   "outputs": [
    {
     "data": {
      "text/plain": [
       "dict"
      ]
     },
     "execution_count": 17,
     "metadata": {},
     "output_type": "execute_result"
    }
   ],
   "source": [
    "type(sentence)"
   ]
  },
  {
   "cell_type": "code",
   "execution_count": 19,
   "metadata": {},
   "outputs": [
    {
     "data": {
      "text/plain": [
       "([{'em1Text': '温某某',\n",
       "   'e1start': 87,\n",
       "   'e21start': 95,\n",
       "   'label': 'posess',\n",
       "   'em2Text': '冰毒'}],\n",
       " list)"
      ]
     },
     "execution_count": 19,
     "metadata": {},
     "output_type": "execute_result"
    }
   ],
   "source": [
    "sentence['relationMentions'],type(sentence['relationMentions'])"
   ]
  },
  {
   "cell_type": "code",
   "execution_count": 22,
   "metadata": {},
   "outputs": [
    {
     "data": {
      "text/plain": [
       "dict"
      ]
     },
     "execution_count": 22,
     "metadata": {},
     "output_type": "execute_result"
    }
   ],
   "source": [
    "len(sentence['relationMentions']) ###1\n",
    "type(sentence['relationMentions'][0])   ####dict"
   ]
  },
  {
   "cell_type": "code",
   "execution_count": 15,
   "metadata": {},
   "outputs": [
    {
     "data": {
      "text/plain": [
       "{'relationMentions': [{'em1Text': '温某某',\n",
       "   'e1start': 87,\n",
       "   'e21start': 95,\n",
       "   'label': 'posess',\n",
       "   'em2Text': '冰毒'}],\n",
       " 'articleId': 10,\n",
       " 'sentId': 49,\n",
       " 'entityMentions': [{'start': 15,\n",
       "   'text': '2016年3月16日',\n",
       "   'end': 25,\n",
       "   'label': 'NT'},\n",
       "  {'start': 36, 'text': '成都市青白江区祥福镇祥红路', 'end': 49, 'label': 'Ns'},\n",
       "  {'start': 65, 'text': '温某某', 'end': 68, 'label': 'Nh'},\n",
       "  {'start': 69, 'text': '钟某某', 'end': 72, 'label': 'Nh'},\n",
       "  {'start': 87, 'text': '温某某', 'end': 90, 'label': 'Nh'},\n",
       "  {'start': 95, 'text': '冰毒', 'end': 97, 'label': 'NDR'},\n",
       "  {'start': 98, 'text': '麻古', 'end': 100, 'label': 'NDR'},\n",
       "  {'start': 102, 'text': '10.38克', 'end': 108, 'label': 'NW'},\n",
       "  {'start': 122, 'text': '甲基苯丙胺', 'end': 127, 'label': 'NDR'},\n",
       "  {'start': 128, 'text': '咖啡因', 'end': 131, 'label': 'NDR'}],\n",
       " 'sentText': '成都市青白江区人民检察院指控，2016年3月16日20许，民警根据线索在成都市青白江区祥福镇祥红路某号某栋某单元某楼某号房间内挡获温某某、钟某某等8名吸毒人员，并当场从被告人温某某身上搜查出冰毒和麻古共计10.38克，经检验，上述物品中均检测出甲基苯丙胺、咖啡因成分。'}"
      ]
     },
     "execution_count": 15,
     "metadata": {},
     "output_type": "execute_result"
    }
   ],
   "source": [
    "sentence"
   ]
  },
  {
   "cell_type": "code",
   "execution_count": null,
   "metadata": {},
   "outputs": [],
   "source": []
  }
 ],
 "metadata": {
  "kernelspec": {
   "display_name": "Python 3",
   "language": "python",
   "name": "python3"
  },
  "language_info": {
   "codemirror_mode": {
    "name": "ipython",
    "version": 3
   },
   "file_extension": ".py",
   "mimetype": "text/x-python",
   "name": "python",
   "nbconvert_exporter": "python",
   "pygments_lexer": "ipython3",
   "version": "3.7.0"
  }
 },
 "nbformat": 4,
 "nbformat_minor": 2
}
