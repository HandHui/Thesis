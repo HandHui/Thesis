{
 "cells": [
  {
   "cell_type": "code",
   "execution_count": 1,
   "metadata": {},
   "outputs": [],
   "source": [
    "# import argparse\n",
    "from utils import *\n",
    "from torch.utils.data.dataset import *\n",
    "from torch.utils.data.sampler import *  #用于采样\n",
    "from torch.nn.utils.rnn import *\n",
    "import bisect\n",
    "# from model import *\n",
    "import torch\n",
    "import os\n",
    "import torch.nn as nn\n",
    "import torch.optim as optim\n",
    "import numpy as np\n",
    "import time\n"
   ]
  },
  {
   "cell_type": "code",
   "execution_count": 2,
   "metadata": {},
   "outputs": [],
   "source": [
    "def myget_triplets(tags,outsent):\n",
    "    temp = {}\n",
    "    triplets = []\n",
    "    for idx, tag in enumerate(tags):\n",
    "        if tag == tag_set[\"O\"]:\n",
    "            continue\n",
    "        entity=[]\n",
    "        pos, relation_label, role = tag_set[tag].split(\"-\")\n",
    "        if pos == \"B\" or pos == \"S\":\n",
    "            entity=[]\n",
    "            entity.append(idx)\n",
    "        if pos==\"I\" or pos==\"E\":\n",
    "            entity.append(idx)\n",
    "        if pos==\"S\" or pos==\"E\":\n",
    "            if relation_label not in temp:\n",
    "                temp[relation_label] = [[], []]\n",
    "            temp[relation_label][int(role) - 1].append(entity)\n",
    "\n",
    "    for relation_label in temp:\n",
    "        role1, role2 = temp[relation_label]  #role1是第一个候选实体列表  role2是第二个候选实体列表\n",
    "        if role1 and role2:\n",
    "            len1, len2 = len(role1), len(role2)\n",
    "            if len1 > len2:\n",
    "                for e2 in role2:\n",
    "                    idx = np.argmin([abs(e2[0] - e1[0]) for e1 in role1])     #实体对以就近原则进行匹配\n",
    "                    e1 = role1[idx]\n",
    "                    entity1=''.join([outsent[i] for i in e1])\n",
    "                    entity2=''.join([outsent[i] for i in e2])\n",
    "                    triplets.append((entity1, relation_label, entity2))\n",
    "                    del role1[idx]\n",
    "            else:\n",
    "                for e1 in role1:\n",
    "                    idx = np.argmin([abs(e2[0] - e1[0]) for e2 in role2])     #实体对以就近原则进行匹配\n",
    "                    e2 = role2[idx]\n",
    "                    entity1=''.join([outsent[i] for i in e1])\n",
    "                    entity2=''.join([outsent[i] for i in e2])\n",
    "                    triplets.append((entity1, relation_label, entity2))\n",
    "                    del role2[idx]\n",
    "    return triplets"
   ]
  },
  {
   "cell_type": "code",
   "execution_count": 4,
   "metadata": {},
   "outputs": [],
   "source": [
    "### 处理tagset\n",
    "tag_set = Index()#定义对象\n",
    "tag_set.load(\"../data/my_tag2id.txt\")#读文件  标记-id"
   ]
  },
  {
   "cell_type": "code",
   "execution_count": 5,
   "metadata": {},
   "outputs": [],
   "source": [
    "### 处理relation\n",
    "relation_labels = Index()#定义对象\n",
    "relation_labels.load('../data/my_relation_labels.txt')#读文件   关系标签"
   ]
  },
  {
   "cell_type": "code",
   "execution_count": 6,
   "metadata": {},
   "outputs": [
    {
     "data": {
      "text/plain": [
       "tensor(4)"
      ]
     },
     "execution_count": 6,
     "metadata": {},
     "output_type": "execute_result"
    }
   ],
   "source": [
    "output = torch.Tensor([0,0,0,0,10,0,0,0,9])\n",
    "output = torch.argmax(output, dim=-1)  #返回指定维度的最大值的序号\n",
    "\n",
    "output"
   ]
  },
  {
   "cell_type": "code",
   "execution_count": 7,
   "metadata": {},
   "outputs": [],
   "source": [
    "with open('../data/my_train.txt','r',encoding='utf-8') as f:\n",
    "    lines = f.readlines()\n",
    "f.close()"
   ]
  },
  {
   "cell_type": "code",
   "execution_count": 8,
   "metadata": {},
   "outputs": [],
   "source": [
    "import pickle\n",
    "\n",
    "with open('../data/my_train.pk', 'rb') as f1:\n",
    "    train_data = pickle.load(f1)\n",
    "f1.close()"
   ]
  },
  {
   "cell_type": "code",
   "execution_count": 9,
   "metadata": {},
   "outputs": [
    {
     "data": {
      "text/plain": [
       "True"
      ]
     },
     "execution_count": 9,
     "metadata": {},
     "output_type": "execute_result"
    }
   ],
   "source": [
    "len(lines) == len(train_data)"
   ]
  },
  {
   "cell_type": "code",
   "execution_count": 12,
   "metadata": {},
   "outputs": [
    {
     "data": {
      "text/plain": [
       "'成'"
      ]
     },
     "execution_count": 12,
     "metadata": {},
     "output_type": "execute_result"
    }
   ],
   "source": [
    "list(lines[1])[-4]"
   ]
  },
  {
   "cell_type": "code",
   "execution_count": 14,
   "metadata": {},
   "outputs": [],
   "source": [
    "tags = train_data[0][1]"
   ]
  },
  {
   "cell_type": "code",
   "execution_count": 15,
   "metadata": {},
   "outputs": [],
   "source": [
    "outsent = list(lines[0].strip())"
   ]
  },
  {
   "cell_type": "code",
   "execution_count": 16,
   "metadata": {},
   "outputs": [
    {
     "data": {
      "text/plain": [
       "True"
      ]
     },
     "execution_count": 16,
     "metadata": {},
     "output_type": "execute_result"
    }
   ],
   "source": [
    "len(tags) == len(outsent)"
   ]
  },
  {
   "cell_type": "code",
   "execution_count": 21,
   "metadata": {},
   "outputs": [
    {
     "name": "stdout",
     "output_type": "stream",
     "text": [
      "[0, 0, 0, 0, 0, 0, 0, 0, 0, 0, 0, 0, 0, 0, 0, 0, 0, 0, 0, 0, 0, 0, 0, 0, 0, 1, 3, 5, 0, 0, 0, 0, 0, 0, 0, 0, 0, 0, 0, 0, 0, 0, 0, 0, 0, 0, 0, 2, 4, 6, 0, 0, 0, 0, 0, 0, 0, 0, 0, 0, 0, 0, 0, 0, 0, 0, 0, 0, 0, 0, 0, 0, 0, 0]\n"
     ]
    }
   ],
   "source": [
    "print(tags)"
   ]
  },
  {
   "cell_type": "code",
   "execution_count": 48,
   "metadata": {},
   "outputs": [
    {
     "name": "stdout",
     "output_type": "stream",
     "text": [
      "BS\n",
      "IE\n",
      "IE\n",
      "BS\n",
      "IE\n",
      "IE\n",
      "[47, 48, 49]\n",
      "*******************\n",
      "{'provide_shelter_for': [[[25, 26, 27]], [[47, 48, 49]]]}\n",
      "provide_shelter_for\n",
      "[25, 26, 27] [47, 48, 49]\n",
      "简某某\n",
      "简某某\n"
     ]
    }
   ],
   "source": [
    "\n",
    "temp = {}\n",
    "triplets = []\n",
    "for idx, tag in enumerate(tags):\n",
    "    if tag == tag_set[\"O\"]:\n",
    "        continue\n",
    "#     entity=[]\n",
    "    pos, relation_label, role = tag_set[tag].split(\"-\")\n",
    "    if pos == \"B\" or pos == \"S\":\n",
    "        print('BS')\n",
    "        entity=[]\n",
    "        entity.append(idx)\n",
    "    if pos==\"I\" or pos==\"E\":\n",
    "        print('IE')\n",
    "        entity.append(idx)\n",
    "    if pos==\"S\" or pos==\"E\":\n",
    "        if relation_label not in temp:\n",
    "            temp[relation_label] = [[], []]\n",
    "        temp[relation_label][int(role) - 1].append(entity)\n",
    "        \n",
    "print(entity)\n",
    "print('*******************')\n",
    "print(temp)\n",
    "\n",
    "label = list(temp.keys())[0]\n",
    "print(label)\n",
    "entitys = temp[label]\n",
    "entity1 = entitys[0][0]\n",
    "entity2 = entitys[1][0]\n",
    "print(entity1,entity2)\n",
    "\n",
    "entity1_word = []\n",
    "for i in entity1:\n",
    "    entity1_word.append(outsent[i])\n",
    "entity1_word = ''.join(entity1_word)\n",
    "print(entity1_word)\n",
    "\n",
    "entity2_word = []\n",
    "for i in entity2:\n",
    "    entity2_word.append(outsent[i])\n",
    "entity2_word = ''.join(entity2_word)\n",
    "print(entity2_word)\n",
    "\n",
    "\n",
    "# for relation_label in temp:\n",
    "#     role1, role2 = temp[relation_label]  #role1是第一个候选实体列表  role2是第二个候选实体列表\n",
    "#     if role1 and role2:\n",
    "#         len1, len2 = len(role1), len(role2)\n",
    "#         if len1 > len2:\n",
    "#             for e2 in role2:\n",
    "#                 idx = np.argmin([abs(e2[0] - e1[0]) for e1 in role1])     #实体对以就近原则进行匹配\n",
    "#                 e1 = role1[idx]\n",
    "#                 entity1=''.join([outsent[i] for i in e1])\n",
    "#                 entity2=''.join([outsent[i] for i in e2])\n",
    "#                 triplets.append((entity1, relation_label, entity2))\n",
    "#                 del role1[idx]\n",
    "#         else:\n",
    "#             for e1 in role1:\n",
    "#                 idx = np.argmin([abs(e2[0] - e1[0]) for e2 in role2])     #实体对以就近原则进行匹配\n",
    "#                 e2 = role2[idx]\n",
    "#                 entity1=''.join([outsent[i] for i in e1])\n",
    "#                 entity2=''.join([outsent[i] for i in e2])\n",
    "#                 triplets.append((entity1, relation_label, entity2))\n",
    "#                 del role2[idx]\n",
    "# # return triplets"
   ]
  },
  {
   "cell_type": "code",
   "execution_count": 29,
   "metadata": {},
   "outputs": [
    {
     "data": {
      "text/plain": [
       "['简', '某', '某']"
      ]
     },
     "execution_count": 29,
     "metadata": {},
     "output_type": "execute_result"
    }
   ],
   "source": [
    "outsent[25:28]"
   ]
  },
  {
   "cell_type": "code",
   "execution_count": 52,
   "metadata": {},
   "outputs": [
    {
     "data": {
      "text/plain": [
       "'公诉 机关 指控 ， 2015年 11月份 的 一 天 晚上 ， 被告人 简 某某 容留 陈某 、 吴某 、 杨 某某 、 张某 、 伍 某某 在 简 某某 家 一 楼 卧室 ， 以 烫 吸 的 方式 吸食 甲基苯丙胺 （ 冰毒 ） 。\\n'"
      ]
     },
     "execution_count": 52,
     "metadata": {},
     "output_type": "execute_result"
    }
   ],
   "source": [
    "lines[0]"
   ]
  },
  {
   "cell_type": "code",
   "execution_count": null,
   "metadata": {},
   "outputs": [],
   "source": []
  }
 ],
 "metadata": {
  "kernelspec": {
   "display_name": "Python 3",
   "language": "python",
   "name": "python3"
  },
  "language_info": {
   "codemirror_mode": {
    "name": "ipython",
    "version": 3
   },
   "file_extension": ".py",
   "mimetype": "text/x-python",
   "name": "python",
   "nbconvert_exporter": "python",
   "pygments_lexer": "ipython3",
   "version": "3.7.0"
  }
 },
 "nbformat": 4,
 "nbformat_minor": 2
}
