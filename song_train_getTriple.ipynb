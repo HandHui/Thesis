{
 "cells": [
  {
   "cell_type": "code",
   "execution_count": 1,
   "metadata": {},
   "outputs": [],
   "source": [
    "# import argparse\n",
    "from utils import *\n",
    "from torch.utils.data.dataset import *\n",
    "from torch.utils.data.sampler import *  #用于采样\n",
    "from torch.nn.utils.rnn import *\n",
    "import bisect\n",
    "# from model import *\n",
    "import torch\n",
    "import os\n",
    "import torch.nn as nn\n",
    "import torch.optim as optim\n",
    "import numpy as np\n",
    "import time\n"
   ]
  },
  {
   "cell_type": "code",
   "execution_count": 2,
   "metadata": {},
   "outputs": [],
   "source": [
    "def myget_triplets(tags,outsent):\n",
    "    temp = {}\n",
    "    triplets = []\n",
    "    for idx, tag in enumerate(tags):\n",
    "        if tag == tag_set[\"O\"]:\n",
    "            continue\n",
    "        entity=[]\n",
    "        pos, relation_label, role = tag_set[tag].split(\"-\")\n",
    "        if pos == \"B\" or pos == \"S\":\n",
    "            entity=[]\n",
    "            entity.append(idx)\n",
    "        if pos==\"I\" or pos==\"E\":\n",
    "            entity.append(idx)\n",
    "        if pos==\"S\" or pos==\"E\":\n",
    "            if relation_label not in temp:\n",
    "                temp[relation_label] = [[], []]\n",
    "            temp[relation_label][int(role) - 1].append(entity)\n",
    "\n",
    "    for relation_label in temp:\n",
    "        role1, role2 = temp[relation_label]  #role1是第一个候选实体列表  role2是第二个候选实体列表\n",
    "        if role1 and role2:\n",
    "            len1, len2 = len(role1), len(role2)\n",
    "            if len1 > len2:\n",
    "                for e2 in role2:\n",
    "                    idx = np.argmin([abs(e2[0] - e1[0]) for e1 in role1])     #实体对以就近原则进行匹配\n",
    "                    e1 = role1[idx]\n",
    "                    entity1=''.join([outsent[i] for i in e1])\n",
    "                    entity2=''.join([outsent[i] for i in e2])\n",
    "                    triplets.append((entity1, relation_label, entity2))\n",
    "                    del role1[idx]\n",
    "            else:\n",
    "                for e1 in role1:\n",
    "                    idx = np.argmin([abs(e2[0] - e1[0]) for e2 in role2])     #实体对以就近原则进行匹配\n",
    "                    e2 = role2[idx]\n",
    "                    entity1=''.join([outsent[i] for i in e1])\n",
    "                    entity2=''.join([outsent[i] for i in e2])\n",
    "                    triplets.append((entity1, relation_label, entity2))\n",
    "                    del role2[idx]\n",
    "    return triplets"
   ]
  },
  {
   "cell_type": "code",
   "execution_count": 3,
   "metadata": {},
   "outputs": [],
   "source": [
    "### 处理tagset\n",
    "tag_set = Index()#定义对象\n",
    "tag_set.load(\"my_tag2id.txt\")#读文件  标记-id"
   ]
  },
  {
   "cell_type": "code",
   "execution_count": 9,
   "metadata": {},
   "outputs": [],
   "source": [
    "### 处理relation\n",
    "relation_labels = Index()#定义对象\n",
    "relation_labels.load('my_relation_labels.txt')#读文件   关系标签"
   ]
  },
  {
   "cell_type": "code",
   "execution_count": 19,
   "metadata": {},
   "outputs": [
    {
     "data": {
      "text/plain": [
       "tensor(4)"
      ]
     },
     "execution_count": 19,
     "metadata": {},
     "output_type": "execute_result"
    }
   ],
   "source": [
    "output = torch.Tensor([0,0,0,0,10,0,0,0,9])\n",
    "output = torch.argmax(output, dim=-1)  #返回指定维度的最大值的序号\n",
    "\n",
    "output"
   ]
  },
  {
   "cell_type": "code",
   "execution_count": 20,
   "metadata": {},
   "outputs": [],
   "source": [
    "with open('mytrain_seg.txt','r',encoding='utf-8') as f:\n",
    "    lines = f.readlines()\n",
    "f.close()"
   ]
  },
  {
   "cell_type": "code",
   "execution_count": 23,
   "metadata": {},
   "outputs": [],
   "source": [
    "import pickle\n",
    "\n",
    "with open('my_train.pk', 'rb') as f1:\n",
    "    train_data = pickle.load(f1)\n",
    "f1.close()"
   ]
  },
  {
   "cell_type": "code",
   "execution_count": 24,
   "metadata": {},
   "outputs": [
    {
     "data": {
      "text/plain": [
       "True"
      ]
     },
     "execution_count": 24,
     "metadata": {},
     "output_type": "execute_result"
    }
   ],
   "source": [
    "len(lines) == len(train_data)"
   ]
  },
  {
   "cell_type": "code",
   "execution_count": 41,
   "metadata": {},
   "outputs": [
    {
     "data": {
      "text/plain": [
       "'出'"
      ]
     },
     "execution_count": 41,
     "metadata": {},
     "output_type": "execute_result"
    }
   ],
   "source": [
    "lines[1].split(' ')[-4]"
   ]
  },
  {
   "cell_type": "code",
   "execution_count": 44,
   "metadata": {},
   "outputs": [],
   "source": [
    "tags = train_data[0][2]"
   ]
  },
  {
   "cell_type": "code",
   "execution_count": 50,
   "metadata": {},
   "outputs": [],
   "source": [
    "outsent = lines[0].strip().split(' ')"
   ]
  },
  {
   "cell_type": "code",
   "execution_count": 46,
   "metadata": {},
   "outputs": [
    {
     "name": "stdout",
     "output_type": "stream",
     "text": [
      "[27]\n",
      "*******************\n",
      "{'provide_shelter_for': [[[12]], [[27]]]}\n"
     ]
    }
   ],
   "source": [
    "\n",
    "temp = {}\n",
    "triplets = []\n",
    "for idx, tag in enumerate(tags):\n",
    "    if tag == tag_set[\"O\"]:\n",
    "        continue\n",
    "    entity=[]\n",
    "    pos, relation_label, role = tag_set[tag].split(\"-\")\n",
    "    if pos == \"B\" or pos == \"S\":\n",
    "        entity=[]\n",
    "        entity.append(idx)\n",
    "    if pos==\"I\" or pos==\"E\":\n",
    "        entity.append(idx)\n",
    "    if pos==\"S\" or pos==\"E\":\n",
    "        if relation_label not in temp:\n",
    "            temp[relation_label] = [[], []]\n",
    "        temp[relation_label][int(role) - 1].append(entity)\n",
    "        \n",
    "print(entity)\n",
    "\n",
    "print('*******************')\n",
    "\n",
    "print(temp)\n",
    "\n",
    "# for relation_label in temp:\n",
    "#     role1, role2 = temp[relation_label]  #role1是第一个候选实体列表  role2是第二个候选实体列表\n",
    "#     if role1 and role2:\n",
    "#         len1, len2 = len(role1), len(role2)\n",
    "#         if len1 > len2:\n",
    "#             for e2 in role2:\n",
    "#                 idx = np.argmin([abs(e2[0] - e1[0]) for e1 in role1])     #实体对以就近原则进行匹配\n",
    "#                 e1 = role1[idx]\n",
    "#                 entity1=''.join([outsent[i] for i in e1])\n",
    "#                 entity2=''.join([outsent[i] for i in e2])\n",
    "#                 triplets.append((entity1, relation_label, entity2))\n",
    "#                 del role1[idx]\n",
    "#         else:\n",
    "#             for e1 in role1:\n",
    "#                 idx = np.argmin([abs(e2[0] - e1[0]) for e2 in role2])     #实体对以就近原则进行匹配\n",
    "#                 e2 = role2[idx]\n",
    "#                 entity1=''.join([outsent[i] for i in e1])\n",
    "#                 entity2=''.join([outsent[i] for i in e2])\n",
    "#                 triplets.append((entity1, relation_label, entity2))\n",
    "#                 del role2[idx]\n",
    "# # return triplets"
   ]
  },
  {
   "cell_type": "code",
   "execution_count": 53,
   "metadata": {},
   "outputs": [
    {
     "data": {
      "text/plain": [
       "'简'"
      ]
     },
     "execution_count": 53,
     "metadata": {},
     "output_type": "execute_result"
    }
   ],
   "source": [
    "outsent[12]"
   ]
  },
  {
   "cell_type": "code",
   "execution_count": 52,
   "metadata": {},
   "outputs": [
    {
     "data": {
      "text/plain": [
       "'公诉 机关 指控 ， 2015年 11月份 的 一 天 晚上 ， 被告人 简 某某 容留 陈某 、 吴某 、 杨 某某 、 张某 、 伍 某某 在 简 某某 家 一 楼 卧室 ， 以 烫 吸 的 方式 吸食 甲基苯丙胺 （ 冰毒 ） 。\\n'"
      ]
     },
     "execution_count": 52,
     "metadata": {},
     "output_type": "execute_result"
    }
   ],
   "source": [
    "lines[0]"
   ]
  },
  {
   "cell_type": "code",
   "execution_count": null,
   "metadata": {},
   "outputs": [],
   "source": []
  }
 ],
 "metadata": {
  "kernelspec": {
   "display_name": "Python 3",
   "language": "python",
   "name": "python3"
  },
  "language_info": {
   "codemirror_mode": {
    "name": "ipython",
    "version": 3
   },
   "file_extension": ".py",
   "mimetype": "text/x-python",
   "name": "python",
   "nbconvert_exporter": "python",
   "pygments_lexer": "ipython3",
   "version": "3.7.0"
  }
 },
 "nbformat": 4,
 "nbformat_minor": 2
}
