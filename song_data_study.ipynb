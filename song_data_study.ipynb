{
 "cells": [
  {
   "cell_type": "markdown",
   "metadata": {},
   "source": [
    "***train.pk文件***"
   ]
  },
  {
   "cell_type": "code",
   "execution_count": 1,
   "metadata": {},
   "outputs": [],
   "source": [
    "import pickle"
   ]
  },
  {
   "cell_type": "code",
   "execution_count": 5,
   "metadata": {},
   "outputs": [],
   "source": [
    "with open('../data/my_train.pk', 'rb') as f1:\n",
    "    train_data = pickle.load(f1)\n",
    "f1.close()"
   ]
  },
  {
   "cell_type": "code",
   "execution_count": 6,
   "metadata": {},
   "outputs": [
    {
     "data": {
      "text/plain": [
       "2201"
      ]
     },
     "execution_count": 6,
     "metadata": {},
     "output_type": "execute_result"
    }
   ],
   "source": [
    "len(train_data)  ###2201"
   ]
  },
  {
   "cell_type": "code",
   "execution_count": 7,
   "metadata": {},
   "outputs": [
    {
     "data": {
      "text/plain": [
       "tuple"
      ]
     },
     "execution_count": 7,
     "metadata": {},
     "output_type": "execute_result"
    }
   ],
   "source": [
    "type(train_data[0]) ###tuple"
   ]
  },
  {
   "cell_type": "code",
   "execution_count": 8,
   "metadata": {},
   "outputs": [
    {
     "data": {
      "text/plain": [
       "2"
      ]
     },
     "execution_count": 8,
     "metadata": {},
     "output_type": "execute_result"
    }
   ],
   "source": [
    "len(train_data[0]) ### 2"
   ]
  },
  {
   "cell_type": "code",
   "execution_count": 9,
   "metadata": {},
   "outputs": [
    {
     "data": {
      "text/plain": [
       "74"
      ]
     },
     "execution_count": 9,
     "metadata": {},
     "output_type": "execute_result"
    }
   ],
   "source": [
    "\n",
    "### sentence_char_idx, tags_idx\n",
    "len(train_data[0][0]) ### \n",
    "len(train_data[0][1]) \n"
   ]
  },
  {
   "cell_type": "code",
   "execution_count": 11,
   "metadata": {},
   "outputs": [
    {
     "name": "stdout",
     "output_type": "stream",
     "text": [
      "[0, 0, 0, 0, 0, 0, 0, 0, 0, 0, 0, 0, 0, 0, 0, 0, 0, 0, 0, 0, 0, 0, 0, 0, 0, 1, 3, 5, 0, 0, 0, 0, 0, 0, 0, 0, 0, 0, 0, 0, 0, 0, 0, 0, 0, 0, 0, 2, 4, 6, 0, 0, 0, 0, 0, 0, 0, 0, 0, 0, 0, 0, 0, 0, 0, 0, 0, 0, 0, 0, 0, 0, 0, 0]\n"
     ]
    }
   ],
   "source": [
    "print(train_data[0][1] )"
   ]
  },
  {
   "cell_type": "markdown",
   "metadata": {},
   "source": [
    "***train.json***"
   ]
  },
  {
   "cell_type": "code",
   "execution_count": 13,
   "metadata": {},
   "outputs": [
    {
     "name": "stdout",
     "output_type": "stream",
     "text": [
      "案件总数： 2201\n",
      "Counter({'provide_shelter_for': 835, 'sell_drugs_to': 472, 'posess': 470, 'traffic_in': 424})\n"
     ]
    }
   ],
   "source": [
    "import json\n",
    "from collections import Counter\n",
    "\n",
    "with open('../bishe_e1/data/mytrain.json','r',encoding='gbk') as f2:\n",
    "    lines = f2.readlines()\n",
    "#     raw_tra = json.load(f2)\n",
    "f2.close()\n",
    "\n",
    "length = len(lines)\n",
    "\n",
    "label_list = []\n",
    "for i in range(length):\n",
    "    sentence = json.loads(lines[i])\n",
    "    label = sentence['relationMentions'][0]['label']\n",
    "    label_list.append(label)\n",
    "    \n",
    "\n",
    "# sentence = json.loads(lines[10])\n",
    "print('案件总数：',length)\n",
    "assert len(label_list) == length\n",
    "\n",
    "from collections import Counter\n",
    "\n",
    "print(Counter(label_list))"
   ]
  },
  {
   "cell_type": "code",
   "execution_count": 14,
   "metadata": {},
   "outputs": [
    {
     "data": {
      "text/plain": [
       "{'relationMentions': [{'em1Text': '简某某',\n",
       "   'e1start': 25,\n",
       "   'e21start': 47,\n",
       "   'label': 'provide_shelter_for',\n",
       "   'em2Text': '简某某'}],\n",
       " 'articleId': 20,\n",
       " 'sentId': 91,\n",
       " 'entityMentions': [{'start': 7,\n",
       "   'text': '2015年11月份的一天晚上',\n",
       "   'end': 21,\n",
       "   'label': 'NT'},\n",
       "  {'start': 25, 'text': '简某某', 'end': 28, 'label': 'Nh'},\n",
       "  {'start': 30, 'text': '陈某', 'end': 32, 'label': 'Nh'},\n",
       "  {'start': 33, 'text': '吴某', 'end': 35, 'label': 'Nh'},\n",
       "  {'start': 36, 'text': '杨某某', 'end': 39, 'label': 'Nh'},\n",
       "  {'start': 40, 'text': '张某', 'end': 42, 'label': 'Nh'},\n",
       "  {'start': 43, 'text': '伍某某', 'end': 46, 'label': 'Nh'},\n",
       "  {'start': 47, 'text': '简某某', 'end': 50, 'label': 'Nh'},\n",
       "  {'start': 64, 'text': '甲基苯丙胺', 'end': 69, 'label': 'NDR'},\n",
       "  {'start': 70, 'text': '冰毒', 'end': 72, 'label': 'NDR'}],\n",
       " 'sentText': '公诉机关指控，2015年11月份的一天晚上，被告人简某某容留陈某、吴某、杨某某、张某、伍某某在简某某家一楼卧室，以烫吸的方式吸食甲基苯丙胺（冰毒）。'}"
      ]
     },
     "execution_count": 14,
     "metadata": {},
     "output_type": "execute_result"
    }
   ],
   "source": [
    "json.loads(lines[0])"
   ]
  },
  {
   "cell_type": "markdown",
   "metadata": {},
   "source": [
    "### test.json文件 ###"
   ]
  },
  {
   "cell_type": "code",
   "execution_count": 15,
   "metadata": {},
   "outputs": [
    {
     "name": "stdout",
     "output_type": "stream",
     "text": [
      "案件总数： 550\n",
      "Counter({'provide_shelter_for': 208, 'posess': 119, 'traffic_in': 114, 'sell_drugs_to': 109})\n"
     ]
    }
   ],
   "source": [
    "with open('../bishe_e1/data/mytest.json','r',encoding='gbk') as f2:\n",
    "    lines = f2.readlines()\n",
    "#     raw_tra = json.load(f2)\n",
    "f2.close()\n",
    "\n",
    "length = len(lines)\n",
    "\n",
    "label_list = []\n",
    "for i in range(length):\n",
    "    sentence = json.loads(lines[i])\n",
    "    label = sentence['relationMentions'][0]['label']\n",
    "    label_list.append(label)\n",
    "    \n",
    "\n",
    "# sentence = json.loads(lines[10])\n",
    "print('案件总数：',length)\n",
    "assert len(label_list) == length\n",
    "\n",
    "from collections import Counter\n",
    "\n",
    "print(Counter(label_list))"
   ]
  },
  {
   "cell_type": "code",
   "execution_count": null,
   "metadata": {},
   "outputs": [],
   "source": []
  }
 ],
 "metadata": {
  "kernelspec": {
   "display_name": "Python 3",
   "language": "python",
   "name": "python3"
  },
  "language_info": {
   "codemirror_mode": {
    "name": "ipython",
    "version": 3
   },
   "file_extension": ".py",
   "mimetype": "text/x-python",
   "name": "python",
   "nbconvert_exporter": "python",
   "pygments_lexer": "ipython3",
   "version": "3.7.0"
  }
 },
 "nbformat": 4,
 "nbformat_minor": 2
}
