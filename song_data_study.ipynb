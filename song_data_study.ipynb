{
 "cells": [
  {
   "cell_type": "markdown",
   "metadata": {},
   "source": [
    "***train.pk文件***"
   ]
  },
  {
   "cell_type": "code",
   "execution_count": 1,
   "metadata": {},
   "outputs": [],
   "source": [
    "import pickle"
   ]
  },
  {
   "cell_type": "code",
   "execution_count": 3,
   "metadata": {},
   "outputs": [],
   "source": [
    "with open('my_train.pk', 'rb') as f1:\n",
    "    train_data = pickle.load(f1)\n",
    "f1.close()"
   ]
  },
  {
   "cell_type": "code",
   "execution_count": 6,
   "metadata": {},
   "outputs": [
    {
     "data": {
      "text/plain": [
       "2098"
      ]
     },
     "execution_count": 6,
     "metadata": {},
     "output_type": "execute_result"
    }
   ],
   "source": [
    "len(train_data)  ###2098"
   ]
  },
  {
   "cell_type": "code",
   "execution_count": 7,
   "metadata": {},
   "outputs": [
    {
     "data": {
      "text/plain": [
       "tuple"
      ]
     },
     "execution_count": 7,
     "metadata": {},
     "output_type": "execute_result"
    }
   ],
   "source": [
    "type(train_data[0]) ###tuple"
   ]
  },
  {
   "cell_type": "code",
   "execution_count": 8,
   "metadata": {},
   "outputs": [
    {
     "data": {
      "text/plain": [
       "3"
      ]
     },
     "execution_count": 8,
     "metadata": {},
     "output_type": "execute_result"
    }
   ],
   "source": [
    "len(train_data[0]) ### 3"
   ]
  },
  {
   "cell_type": "code",
   "execution_count": 9,
   "metadata": {},
   "outputs": [
    {
     "data": {
      "text/plain": [
       "45"
      ]
     },
     "execution_count": 9,
     "metadata": {},
     "output_type": "execute_result"
    }
   ],
   "source": [
    "#### 45为句子中的词的数量\n",
    "### sentence_word_idx, tokens_idx, tags_idx\n",
    "len(train_data[0][0]) ### 45\n",
    "len(train_data[0][1]) ### 45\n",
    "len(train_data[0][2]) ###45"
   ]
  },
  {
   "cell_type": "code",
   "execution_count": 10,
   "metadata": {},
   "outputs": [
    {
     "data": {
      "text/plain": [
       "[[670, 531, 2192, 2192, 2192, 2192, 2192, 2192, 2192, 2192],\n",
       " [2020, 68, 2192, 2192, 2192, 2192, 2192, 2192, 2192, 2192],\n",
       " [20, 1779, 2192, 2192, 2192, 2192, 2192, 2192, 2192, 2192],\n",
       " [1107, 2192, 2192, 2192, 2192, 2192, 2192, 2192, 2192, 2192],\n",
       " [1771, 198, 1345, 1599, 707, 2192, 2192, 2192, 2192, 2192],\n",
       " [1345, 1345, 1085, 41, 2192, 2192, 2192, 2192, 2192, 2192],\n",
       " [2049, 2192, 2192, 2192, 2192, 2192, 2192, 2192, 2192, 2192],\n",
       " [1514, 2192, 2192, 2192, 2192, 2192, 2192, 2192, 2192, 2192],\n",
       " [422, 2192, 2192, 2192, 2192, 2192, 2192, 2192, 2192, 2192],\n",
       " [1445, 1704, 2192, 2192, 2192, 2192, 2192, 2192, 2192, 2192],\n",
       " [1107, 2192, 2192, 2192, 2192, 2192, 2192, 2192, 2192, 2192],\n",
       " [1493, 1556, 1807, 2192, 2192, 2192, 2192, 2192, 2192, 2192],\n",
       " [1075, 2192, 2192, 2192, 2192, 2192, 2192, 2192, 2192, 2192],\n",
       " [10, 10, 2192, 2192, 2192, 2192, 2192, 2192, 2192, 2192],\n",
       " [2097, 1538, 2192, 2192, 2192, 2192, 2192, 2192, 2192, 2192],\n",
       " [2112, 10, 2192, 2192, 2192, 2192, 2192, 2192, 2192, 2192],\n",
       " [825, 2192, 2192, 2192, 2192, 2192, 2192, 2192, 2192, 2192],\n",
       " [1598, 10, 2192, 2192, 2192, 2192, 2192, 2192, 2192, 2192],\n",
       " [825, 2192, 2192, 2192, 2192, 2192, 2192, 2192, 2192, 2192],\n",
       " [2075, 2192, 2192, 2192, 2192, 2192, 2192, 2192, 2192, 2192],\n",
       " [10, 10, 2192, 2192, 2192, 2192, 2192, 2192, 2192, 2192],\n",
       " [825, 2192, 2192, 2192, 2192, 2192, 2192, 2192, 2192, 2192],\n",
       " [1287, 10, 2192, 2192, 2192, 2192, 2192, 2192, 2192, 2192],\n",
       " [825, 2192, 2192, 2192, 2192, 2192, 2192, 2192, 2192, 2192],\n",
       " [2159, 2192, 2192, 2192, 2192, 2192, 2192, 2192, 2192, 2192],\n",
       " [10, 10, 2192, 2192, 2192, 2192, 2192, 2192, 2192, 2192],\n",
       " [332, 2192, 2192, 2192, 2192, 2192, 2192, 2192, 2192, 2192],\n",
       " [1075, 2192, 2192, 2192, 2192, 2192, 2192, 2192, 2192, 2192],\n",
       " [10, 10, 2192, 2192, 2192, 2192, 2192, 2192, 2192, 2192],\n",
       " [995, 2192, 2192, 2192, 2192, 2192, 2192, 2192, 2192, 2192],\n",
       " [1514, 2192, 2192, 2192, 2192, 2192, 2192, 2192, 2192, 2192],\n",
       " [1282, 2192, 2192, 2192, 2192, 2192, 2192, 2192, 2192, 2192],\n",
       " [869, 2027, 2192, 2192, 2192, 2192, 2192, 2192, 2192, 2192],\n",
       " [1107, 2192, 2192, 2192, 2192, 2192, 2192, 2192, 2192, 2192],\n",
       " [1997, 2192, 2192, 2192, 2192, 2192, 2192, 2192, 2192, 2192],\n",
       " [1393, 2192, 2192, 2192, 2192, 2192, 2192, 2192, 2192, 2192],\n",
       " [510, 2192, 2192, 2192, 2192, 2192, 2192, 2192, 2192, 2192],\n",
       " [2049, 2192, 2192, 2192, 2192, 2192, 2192, 2192, 2192, 2192],\n",
       " [741, 267, 2192, 2192, 2192, 2192, 2192, 2192, 2192, 2192],\n",
       " [510, 494, 2192, 2192, 2192, 2192, 2192, 2192, 2192, 2192],\n",
       " [523, 400, 1212, 554, 2144, 2192, 2192, 2192, 2192, 2192],\n",
       " [822, 2192, 2192, 2192, 2192, 2192, 2192, 2192, 2192, 2192],\n",
       " [1956, 352, 2192, 2192, 2192, 2192, 2192, 2192, 2192, 2192],\n",
       " [2146, 2192, 2192, 2192, 2192, 2192, 2192, 2192, 2192, 2192],\n",
       " [1643, 2192, 2192, 2192, 2192, 2192, 2192, 2192, 2192, 2192]]"
      ]
     },
     "execution_count": 10,
     "metadata": {},
     "output_type": "execute_result"
    }
   ],
   "source": [
    "train_data[0][1] ### 每一行都表示token_idx（每个词的字序列的id） 2192表示填充字符"
   ]
  },
  {
   "cell_type": "markdown",
   "metadata": {},
   "source": [
    "***train.json***"
   ]
  },
  {
   "cell_type": "code",
   "execution_count": 14,
   "metadata": {},
   "outputs": [
    {
     "name": "stdout",
     "output_type": "stream",
     "text": [
      "案件总数： 2201\n",
      "Counter({'provide_shelter_for': 835, 'sell_drugs_to': 472, 'posess': 470, 'traffic_in': 424})\n"
     ]
    }
   ],
   "source": [
    "import json\n",
    "from collections import Counter\n",
    "\n",
    "with open('../../data/mytrain.json','r',encoding='gbk') as f2:\n",
    "    lines = f2.readlines()\n",
    "#     raw_tra = json.load(f2)\n",
    "f2.close()\n",
    "\n",
    "length = len(lines)\n",
    "\n",
    "label_list = []\n",
    "for i in range(length):\n",
    "    sentence = json.loads(lines[i])\n",
    "    label = sentence['relationMentions'][0]['label']\n",
    "    label_list.append(label)\n",
    "    \n",
    "\n",
    "# sentence = json.loads(lines[10])\n",
    "print('案件总数：',length)\n",
    "assert len(label_list) == length\n",
    "\n",
    "from collections import Counter\n",
    "\n",
    "print(Counter(label_list))"
   ]
  },
  {
   "cell_type": "code",
   "execution_count": null,
   "metadata": {},
   "outputs": [],
   "source": []
  }
 ],
 "metadata": {
  "kernelspec": {
   "display_name": "Python 3",
   "language": "python",
   "name": "python3"
  },
  "language_info": {
   "codemirror_mode": {
    "name": "ipython",
    "version": 3
   },
   "file_extension": ".py",
   "mimetype": "text/x-python",
   "name": "python",
   "nbconvert_exporter": "python",
   "pygments_lexer": "ipython3",
   "version": "3.7.0"
  }
 },
 "nbformat": 4,
 "nbformat_minor": 2
}
