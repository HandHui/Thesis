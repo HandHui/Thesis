{
 "cells": [
  {
   "cell_type": "code",
   "execution_count": 3,
   "metadata": {},
   "outputs": [],
   "source": [
    "import json"
   ]
  },
  {
   "cell_type": "code",
   "execution_count": 7,
   "metadata": {},
   "outputs": [],
   "source": [
    "with open('../dataset_new/train5.json','r',encoding='utf-8') as f2:\n",
    "    lines = f2.readlines()\n",
    "#     raw_tra = json.load(f2)\n",
    "f2.close()\n",
    "\n",
    "length = len(lines)\n",
    "\n",
    "\n",
    "    \n",
    "    "
   ]
  },
  {
   "cell_type": "code",
   "execution_count": 21,
   "metadata": {},
   "outputs": [],
   "source": [
    "single_label_datas = []\n",
    "for i in range(length):\n",
    "    single_data = {}\n",
    "    sentence = json.loads(lines[i])\n",
    "    \n",
    "    entityMentions = sentence['entityMentions']\n",
    "    single_data['entityMentions'] = entityMentions\n",
    "    \n",
    "    labels = sentence['relationMentions']\n",
    "    \n",
    "    sentText = sentence['sentText']\n",
    "    single_data['sentText'] = sentText\n",
    "#     print(sentence)\n",
    "    for label in labels:\n",
    "        single_data['relationMentions'] = [label]\n",
    "        single_label_datas.append(single_data.copy())\n",
    "        "
   ]
  },
  {
   "cell_type": "code",
   "execution_count": 30,
   "metadata": {},
   "outputs": [
    {
     "data": {
      "text/plain": [
       "{'entityMentions': [{'end': 18,\n",
       "   'start': 6,\n",
       "   'text': '2015年7月22日1时',\n",
       "   'label': 'NT'},\n",
       "  {'end': 31, 'start': 28, 'text': '吴某某', 'label': 'Nh'},\n",
       "  {'end': 40, 'start': 34, 'text': '贵阳市云岩区', 'label': 'Ns'},\n",
       "  {'end': 86, 'start': 83, 'text': '焦某某', 'label': 'Nh'},\n",
       "  {'end': 109, 'start': 106, 'text': '海洛因', 'label': 'NDR'},\n",
       "  {'end': 115, 'start': 111, 'text': '120克', 'label': 'NW'}],\n",
       " 'sentText': '经审理查明，2015年7月22日1时许，公安民警接到群众吴某某举报称贵阳市云岩区纯味园宿舍有一男子持有大量毒品。公安民警接警后前往举报地点搜查。在搜查过程中，从被告人焦某某身上查获毒品一包，经刑事科学技术鉴定检出海洛因计重120克。涉案毒品已上交省公安厅禁毒总队。',\n",
       " 'relationMentions': [{'e1start': 106,\n",
       "   'em1Text': '海洛因',\n",
       "   'e21start': 34,\n",
       "   'em2Text': '贵阳市云岩区',\n",
       "   'label': 'NA'}]}"
      ]
     },
     "execution_count": 30,
     "metadata": {},
     "output_type": "execute_result"
    }
   ],
   "source": [
    "single_label_datas[--10]"
   ]
  },
  {
   "cell_type": "code",
   "execution_count": null,
   "metadata": {},
   "outputs": [],
   "source": []
  }
 ],
 "metadata": {
  "kernelspec": {
   "display_name": "Python 3",
   "language": "python",
   "name": "python3"
  },
  "language_info": {
   "codemirror_mode": {
    "name": "ipython",
    "version": 3
   },
   "file_extension": ".py",
   "mimetype": "text/x-python",
   "name": "python",
   "nbconvert_exporter": "python",
   "pygments_lexer": "ipython3",
   "version": "3.7.0"
  }
 },
 "nbformat": 4,
 "nbformat_minor": 2
}
